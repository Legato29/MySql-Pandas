{
 "cells": [
  {
   "cell_type": "code",
   "execution_count": 1,
   "id": "9fd37ff4",
   "metadata": {},
   "outputs": [],
   "source": [
    "#[篩選資料]可回收且低脂的產品：篩選出low_fats 和 recyclable 都是\"Y\"的row"
   ]
  },
  {
   "cell_type": "code",
   "execution_count": 2,
   "id": "21f2e948",
   "metadata": {},
   "outputs": [],
   "source": [
    "#導入pandas\n",
    "import pandas as pd"
   ]
  },
  {
   "cell_type": "code",
   "execution_count": 3,
   "id": "4d421bbf",
   "metadata": {},
   "outputs": [
    {
     "name": "stdout",
     "output_type": "stream",
     "text": [
      "   product_id low_fats recyclable\n",
      "0           0        Y          N\n",
      "1           1        Y          Y\n",
      "2           2        N          Y\n",
      "3           3        Y          Y\n",
      "4           4        N          N\n"
     ]
    }
   ],
   "source": [
    "#建立pandas的 DataFrame\n",
    "products = pd.DataFrame({\n",
    "    'product_id': [0, 1, 2, 3, 4],\n",
    "    'low_fats': ['Y', 'Y', 'N', 'Y', 'N'],\n",
    "    'recyclable': ['N', 'Y', 'Y', 'Y', 'N']\n",
    "})\n",
    "\n",
    "print(products)"
   ]
  },
  {
   "cell_type": "code",
   "execution_count": 4,
   "id": "42b25f2d",
   "metadata": {},
   "outputs": [
    {
     "name": "stdout",
     "output_type": "stream",
     "text": [
      "   product_id\n",
      "1           1\n",
      "3           3\n"
     ]
    }
   ],
   "source": [
    "#法一：用dataframe[條件]提取資料\n",
    "def find_products(products: pd.DataFrame) -> pd.DataFrame:\n",
    "# products: pd.DataFrame   products 是傳進來的參數，該參數型別是 pandas.DataFrame\n",
    "# -> pd.DataFrame          表示此函式會回傳一個 pandas.DataFrame 物件\n",
    "\n",
    "    df = products[(products[\"low_fats\"] == \"Y\") & (products[\"recyclable\"] == \"Y\")]\n",
    "    #抓出滿足條件的資料 資料表[條件]\n",
    "    \n",
    "    return df[[\"product_id\"]]\n",
    "    #df表會有兩columns都是Y的資料，而我只要product_id那一個column，用[[]]表示資料是二維的dateframe\n",
    "\n",
    "result = find_products(products)\n",
    "print(result)"
   ]
  },
  {
   "cell_type": "code",
   "execution_count": 5,
   "id": "390a5ac1",
   "metadata": {},
   "outputs": [
    {
     "name": "stdout",
     "output_type": "stream",
     "text": [
      "   product_id\n",
      "1           1\n",
      "3           3\n"
     ]
    }
   ],
   "source": [
    "#法二：直接用return + .loc(條件,要呈現出來的columns)\n",
    "def find_products(products: pd.DataFrame) -> pd.DataFrame:\n",
    "    return(\n",
    "        products.loc[\n",
    "            (products[\"low_fats\"] == \"Y\") & (products[\"recyclable\"] == \"Y\"),[\"product_id\"]\n",
    "        ]\n",
    "    )\n",
    "    \n",
    "result = find_products(products)\n",
    "print(result)"
   ]
  }
 ],
 "metadata": {
  "kernelspec": {
   "display_name": "Python 3",
   "language": "python",
   "name": "python3"
  },
  "language_info": {
   "codemirror_mode": {
    "name": "ipython",
    "version": 3
   },
   "file_extension": ".py",
   "mimetype": "text/x-python",
   "name": "python",
   "nbconvert_exporter": "python",
   "pygments_lexer": "ipython3",
   "version": "3.13.2"
  }
 },
 "nbformat": 4,
 "nbformat_minor": 5
}
