{
 "cells": [
  {
   "cell_type": "code",
   "execution_count": 1,
   "id": "bb1be49e",
   "metadata": {},
   "outputs": [],
   "source": [
    "# https://leetcode.cn/problems/replace-employee-id-with-the-unique-identifier/?envType=study-plan-v2&envId=sql-free-50\n",
    "# [join兩表：merge、fillna(\"替換值\")] 用id串接兩表並輸出，其中空值請用null填充\n",
    "# A表：id、name\n",
    "# B表：id、unique_id"
   ]
  },
  {
   "cell_type": "code",
   "execution_count": 2,
   "id": "0afd7aa8",
   "metadata": {},
   "outputs": [
    {
     "name": "stdout",
     "output_type": "stream",
     "text": [
      "   id      name\n",
      "0   1     Alice\n",
      "1   7       Bob\n",
      "2  11      Meir\n",
      "3  90   Winston\n",
      "4   3  Jonathan\n"
     ]
    }
   ],
   "source": [
    "import pandas as pd\n",
    "d1={\n",
    "    \"id\":[1,7,11,90,3],\n",
    "    \"name\":[\"Alice\",\"Bob\",\"Meir\",\"Winston\",\"Jonathan\"]\n",
    "}\n",
    "\n",
    "d2={\n",
    "    \"id\":[3,11,90],\n",
    "    \"unique_id\":[1,2,3]\n",
    "}\n",
    "\n",
    "employees=pd.DataFrame(d1)\n",
    "employee_uni=pd.DataFrame(d2)\n",
    "\n",
    "print(employees)"
   ]
  },
  {
   "cell_type": "code",
   "execution_count": 3,
   "id": "3639f002",
   "metadata": {},
   "outputs": [
    {
     "name": "stdout",
     "output_type": "stream",
     "text": [
      "   id  unique_id\n",
      "0   3          1\n",
      "1  11          2\n",
      "2  90          3\n"
     ]
    }
   ],
   "source": [
    "print(employee_uni)"
   ]
  },
  {
   "cell_type": "code",
   "execution_count": 4,
   "id": "8c898c68",
   "metadata": {},
   "outputs": [
    {
     "data": {
      "text/html": [
       "<div>\n",
       "<style scoped>\n",
       "    .dataframe tbody tr th:only-of-type {\n",
       "        vertical-align: middle;\n",
       "    }\n",
       "\n",
       "    .dataframe tbody tr th {\n",
       "        vertical-align: top;\n",
       "    }\n",
       "\n",
       "    .dataframe thead th {\n",
       "        text-align: right;\n",
       "    }\n",
       "</style>\n",
       "<table border=\"1\" class=\"dataframe\">\n",
       "  <thead>\n",
       "    <tr style=\"text-align: right;\">\n",
       "      <th></th>\n",
       "      <th>id</th>\n",
       "      <th>name</th>\n",
       "      <th>unique_id</th>\n",
       "    </tr>\n",
       "  </thead>\n",
       "  <tbody>\n",
       "    <tr>\n",
       "      <th>0</th>\n",
       "      <td>1</td>\n",
       "      <td>Alice</td>\n",
       "      <td>NaN</td>\n",
       "    </tr>\n",
       "    <tr>\n",
       "      <th>1</th>\n",
       "      <td>7</td>\n",
       "      <td>Bob</td>\n",
       "      <td>NaN</td>\n",
       "    </tr>\n",
       "    <tr>\n",
       "      <th>2</th>\n",
       "      <td>11</td>\n",
       "      <td>Meir</td>\n",
       "      <td>2.0</td>\n",
       "    </tr>\n",
       "    <tr>\n",
       "      <th>3</th>\n",
       "      <td>90</td>\n",
       "      <td>Winston</td>\n",
       "      <td>3.0</td>\n",
       "    </tr>\n",
       "    <tr>\n",
       "      <th>4</th>\n",
       "      <td>3</td>\n",
       "      <td>Jonathan</td>\n",
       "      <td>1.0</td>\n",
       "    </tr>\n",
       "  </tbody>\n",
       "</table>\n",
       "</div>"
      ],
      "text/plain": [
       "   id      name  unique_id\n",
       "0   1     Alice        NaN\n",
       "1   7       Bob        NaN\n",
       "2  11      Meir        2.0\n",
       "3  90   Winston        3.0\n",
       "4   3  Jonathan        1.0"
      ]
     },
     "execution_count": 4,
     "metadata": {},
     "output_type": "execute_result"
    }
   ],
   "source": [
    "def replace_employee_id1(employees: pd.DataFrame, employee_uni: pd.DataFrame) -> pd.DataFrame:\n",
    "    return(\n",
    "        pd.merge(employees,employee_uni,how=\"left\",on=\"id\")\n",
    "    )\n",
    "    \n",
    "replace_employee_id1(employees, employee_uni)\n",
    "\n",
    "# 會發現一件事：表格的樣式不太一樣\n",
    "# 直接用字典創建並打印 DataFrame會顯示預設設置"
   ]
  },
  {
   "cell_type": "code",
   "execution_count": null,
   "id": "72d48ebc",
   "metadata": {},
   "outputs": [
    {
     "data": {
      "text/html": [
       "<div>\n",
       "<style scoped>\n",
       "    .dataframe tbody tr th:only-of-type {\n",
       "        vertical-align: middle;\n",
       "    }\n",
       "\n",
       "    .dataframe tbody tr th {\n",
       "        vertical-align: top;\n",
       "    }\n",
       "\n",
       "    .dataframe thead th {\n",
       "        text-align: right;\n",
       "    }\n",
       "</style>\n",
       "<table border=\"1\" class=\"dataframe\">\n",
       "  <thead>\n",
       "    <tr style=\"text-align: right;\">\n",
       "      <th></th>\n",
       "      <th>id</th>\n",
       "      <th>name</th>\n",
       "      <th>unique_id</th>\n",
       "    </tr>\n",
       "  </thead>\n",
       "  <tbody>\n",
       "    <tr>\n",
       "      <th>0</th>\n",
       "      <td>1</td>\n",
       "      <td>Alice</td>\n",
       "      <td>null</td>\n",
       "    </tr>\n",
       "    <tr>\n",
       "      <th>1</th>\n",
       "      <td>7</td>\n",
       "      <td>Bob</td>\n",
       "      <td>null</td>\n",
       "    </tr>\n",
       "    <tr>\n",
       "      <th>2</th>\n",
       "      <td>11</td>\n",
       "      <td>Meir</td>\n",
       "      <td>2.0</td>\n",
       "    </tr>\n",
       "    <tr>\n",
       "      <th>3</th>\n",
       "      <td>90</td>\n",
       "      <td>Winston</td>\n",
       "      <td>3.0</td>\n",
       "    </tr>\n",
       "    <tr>\n",
       "      <th>4</th>\n",
       "      <td>3</td>\n",
       "      <td>Jonathan</td>\n",
       "      <td>1.0</td>\n",
       "    </tr>\n",
       "  </tbody>\n",
       "</table>\n",
       "</div>"
      ],
      "text/plain": [
       "   id      name unique_id\n",
       "0   1     Alice      null\n",
       "1   7       Bob      null\n",
       "2  11      Meir       2.0\n",
       "3  90   Winston       3.0\n",
       "4   3  Jonathan       1.0"
      ]
     },
     "execution_count": 5,
     "metadata": {},
     "output_type": "execute_result"
    }
   ],
   "source": [
    "# 這裡會發現一件事，它的空值是：Nan，而如果我們一定要他呈現\"Null\"時：\n",
    "# 1.若需要的是資料庫內部的 NULL，那就留著 NaN， Pandas 在 .to_sql() 時會自動轉為 NULL\n",
    "# 2.使用.fillna(\"要轉換成的字串\")：DataFrame.fillna(value, inplace=False)\n",
    "# value: 你想用來取代 NaN 的值，例如 \"null\"、0、平均值等等\n",
    "# inplace: 預設是 False，如果設為 True，就會直接修改原來的 DataFrame，而不會回傳新的\n",
    "\n",
    "def replace_employee_id2(employees: pd.DataFrame, employee_uni: pd.DataFrame) -> pd.DataFrame:\n",
    "    merged = pd.merge(employees, employee_uni, how=\"left\", on=\"id\")\n",
    "    merged = merged.fillna(\"null\") \n",
    "    return merged\n",
    "replace_employee_id2(employees, employee_uni)\n",
    "\n",
    "# 如果只想針對特定的column做fillna替換填充：\n",
    "# merged[\"unique_id\"] = merged[\"unique_id\"].fillna(\"null\")"
   ]
  }
 ],
 "metadata": {
  "kernelspec": {
   "display_name": "Python 3",
   "language": "python",
   "name": "python3"
  },
  "language_info": {
   "codemirror_mode": {
    "name": "ipython",
    "version": 3
   },
   "file_extension": ".py",
   "mimetype": "text/x-python",
   "name": "python",
   "nbconvert_exporter": "python",
   "pygments_lexer": "ipython3",
   "version": "3.13.2"
  }
 },
 "nbformat": 4,
 "nbformat_minor": 5
}
