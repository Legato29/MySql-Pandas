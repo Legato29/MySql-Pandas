{
 "cells": [
  {
   "cell_type": "code",
   "execution_count": 1,
   "id": "ac482c3a",
   "metadata": {},
   "outputs": [],
   "source": [
    "# https://leetcode.cn/problems/article-views-i/description/\n",
    "# [去重distinct、排序order by、重新命名rename as]\n",
    "# 請查詢出所有瀏覽過自己文章的作者。結果按照作者的 id 升序排列。"
   ]
  },
  {
   "cell_type": "code",
   "execution_count": null,
   "id": "f1291faf",
   "metadata": {},
   "outputs": [
    {
     "name": "stdout",
     "output_type": "stream",
     "text": [
      "Successfully connected!\n"
     ]
    }
   ],
   "source": [
    "import pandas as pd\n",
    "import pymysql \n",
    "\n",
    "host = 'localhost' \n",
    "port = 3306    \n",
    "user = 'root'  \n",
    "\n",
    "passwd = 'password'   \n",
    "db = 'testdb'          \n",
    "charset = 'utf8mb4'     \n",
    "\n",
    "conn = pymysql.connect(host=host, port=port, user=user, passwd=passwd, db=db, charset=charset)\n",
    "\n",
    "print('Successfully connected!')"
   ]
  },
  {
   "cell_type": "code",
   "execution_count": 3,
   "id": "3e32f9b3",
   "metadata": {},
   "outputs": [],
   "source": [
    "# 創建游標\n",
    "cursor = conn.cursor() "
   ]
  },
  {
   "cell_type": "code",
   "execution_count": 4,
   "id": "8c14c193",
   "metadata": {},
   "outputs": [
    {
     "name": "stdout",
     "output_type": "stream",
     "text": [
      "成功建立 Views 資料表\n"
     ]
    }
   ],
   "source": [
    "# 使用sql語法創建表格\n",
    "sql_create= \"\"\"\n",
    "CREATE TABLE IF NOT EXISTS Views (\n",
    "    article_id INT,\n",
    "    author_id INT,\n",
    "    viewer_id INT,\n",
    "    view_date DATE\n",
    ");\n",
    "\"\"\"\n",
    "# 執行建表指令\n",
    "cursor.execute(sql_create)\n",
    "print(\"成功建立 Views 資料表\")"
   ]
  },
  {
   "cell_type": "code",
   "execution_count": 5,
   "id": "2e6cc623",
   "metadata": {},
   "outputs": [
    {
     "name": "stdout",
     "output_type": "stream",
     "text": [
      "成功將資料寫入 Views 資料表\n"
     ]
    }
   ],
   "source": [
    "sql_insert= \"\"\"\n",
    "INSERT INTO Views (article_id, author_id, viewer_id, view_date) VALUES\n",
    "(1, 3, 5, '2019-08-01'),\n",
    "(1, 3, 6, '2019-08-02'),\n",
    "(2, 7, 7, '2019-08-01'),\n",
    "(2, 7, 6, '2019-08-02'),\n",
    "(4, 7, 1, '2019-07-22'),\n",
    "(3, 4, 4, '2019-07-21'),\n",
    "(3, 4, 4, '2019-07-21');\n",
    "\"\"\"\n",
    "\n",
    "# 執行寫入資料指令\n",
    "cursor.execute(sql_insert)\n",
    "print(\"成功將資料寫入 Views 資料表\")"
   ]
  },
  {
   "cell_type": "code",
   "execution_count": 6,
   "id": "99158db3",
   "metadata": {},
   "outputs": [],
   "source": [
    "conn.commit()\n",
    "#哪些行為要特別committ？\n",
    "# 1. 插入資料：insert \n",
    "# 2. 更新資料：update、delete\n",
    "# 為何truncate不需要committ？\n",
    "# 因為 truncate 是直接刪除整個表格的資料，不需要提交，它是在重新定義一個新的資源，(一開始的drop也是一種完整的定義行為)、(delete是刪除部分資料的行為)"
   ]
  },
  {
   "cell_type": "code",
   "execution_count": 7,
   "id": "a90485b2",
   "metadata": {},
   "outputs": [],
   "source": [
    "# #如果表格已經存在，是要插入columns，可用以下方法：\n",
    "# # 1.先寫好 SQL 語法 SQL的columns模板、並將語法中會不斷改變的部分挖空 ( %s )\n",
    "# sql_insert = \"\"\"\n",
    "# INSERT INTO Staff (ID, Name, DeptId, Age, Gender, Salary, recordDt)\n",
    "# VALUES (%s, %s, %s, %s, %s, %s, %s);\n",
    "# \"\"\"\n",
    "\n",
    "# # 2.整理 jsondata 成可 insert 進資料庫的樣子，格式如下(其中[]裡面的()是tuple的格式)：\n",
    "# values = [\n",
    "#     ('001', 'Mike', '002', '45', 'M', '60000', '2020-10-13 21:41:49'),\n",
    "#     ('002', 'Judy', '002', '30', 'F', '48000', '2020-10-13 21:41:49'),\n",
    "#     ('003', 'Allen', '001', '22', 'M', '50000', '2020-10-13 21:41:49'),\n",
    "#     ('004', 'Tom', '002', '47', 'M', '47000', '2020-10-13 21:41:49'),\n",
    "#     ('005', 'Jack', '003', '36', 'M', '52000', '2020-10-13 21:41:49'),\n",
    "#     ('006', 'Abby', '002', '24', 'F', '45000', '2020-10-13 21:41:49'),\n",
    "#     ('007', 'Trump', '001', '80', 'M', '80000', '2020-10-13 21:41:49'),\n",
    "#     ('008', 'Marry', '003', '29', 'F', '87000', '2020-10-13 21:41:49')\n",
    "# ]\n",
    "\n",
    "# # 3.使用 cursor.executemany() 方法批量插入資料，(插入的mysql模板,插入的資料)\n",
    "# cursor.executemany(sql_insert, values)\n",
    "\n",
    "# # 4.提交資料\n",
    "# conn.commit() "
   ]
  },
  {
   "cell_type": "code",
   "execution_count": 8,
   "id": "aaea7be8",
   "metadata": {},
   "outputs": [
    {
     "data": {
      "text/plain": [
       "42"
      ]
     },
     "execution_count": 8,
     "metadata": {},
     "output_type": "execute_result"
    }
   ],
   "source": [
    "#接下來要用mysql語法 select資料出來看看：\n",
    "sql_look = \"\"\"\n",
    "select * from Views\n",
    "\"\"\"\n",
    "cursor.execute(sql_look)\n",
    "#回應1代表裡面有一筆資料"
   ]
  },
  {
   "cell_type": "code",
   "execution_count": 9,
   "id": "9a29d42a",
   "metadata": {},
   "outputs": [
    {
     "name": "stdout",
     "output_type": "stream",
     "text": [
      "    0  1  2           3\n",
      "0   1  3  5  2019-08-01\n",
      "1   1  3  6  2019-08-02\n",
      "2   2  7  7  2019-08-01\n",
      "3   2  7  6  2019-08-02\n",
      "4   4  7  1  2019-07-22\n",
      "5   3  4  4  2019-07-21\n",
      "6   3  4  4  2019-07-21\n",
      "7   1  3  5  2019-08-01\n",
      "8   1  3  6  2019-08-02\n",
      "9   2  7  7  2019-08-01\n",
      "10  2  7  6  2019-08-02\n",
      "11  4  7  1  2019-07-22\n",
      "12  3  4  4  2019-07-21\n",
      "13  3  4  4  2019-07-21\n",
      "14  1  3  5  2019-08-01\n",
      "15  1  3  6  2019-08-02\n",
      "16  2  7  7  2019-08-01\n",
      "17  2  7  6  2019-08-02\n",
      "18  4  7  1  2019-07-22\n",
      "19  3  4  4  2019-07-21\n",
      "20  3  4  4  2019-07-21\n",
      "21  1  3  5  2019-08-01\n",
      "22  1  3  6  2019-08-02\n",
      "23  2  7  7  2019-08-01\n",
      "24  2  7  6  2019-08-02\n",
      "25  4  7  1  2019-07-22\n",
      "26  3  4  4  2019-07-21\n",
      "27  3  4  4  2019-07-21\n",
      "28  1  3  5  2019-08-01\n",
      "29  1  3  6  2019-08-02\n",
      "30  2  7  7  2019-08-01\n",
      "31  2  7  6  2019-08-02\n",
      "32  4  7  1  2019-07-22\n",
      "33  3  4  4  2019-07-21\n",
      "34  3  4  4  2019-07-21\n",
      "35  1  3  5  2019-08-01\n",
      "36  1  3  6  2019-08-02\n",
      "37  2  7  7  2019-08-01\n",
      "38  2  7  6  2019-08-02\n",
      "39  4  7  1  2019-07-22\n",
      "40  3  4  4  2019-07-21\n",
      "41  3  4  4  2019-07-21\n"
     ]
    }
   ],
   "source": [
    "cursor.scroll(0, mode='absolute')\n",
    "df=pd.DataFrame(cursor.fetchall())\n",
    "print(df)"
   ]
  },
  {
   "cell_type": "code",
   "execution_count": 10,
   "id": "ed01188b",
   "metadata": {},
   "outputs": [
    {
     "name": "stdout",
     "output_type": "stream",
     "text": [
      "(('article_id', 3, None, 11, 11, 0, True), ('author_id', 3, None, 11, 11, 0, True), ('viewer_id', 3, None, 11, 11, 0, True), ('view_date', 10, None, 10, 10, 0, True))\n"
     ]
    }
   ],
   "source": [
    "# 如果用 fetchall() 直接轉成 DataFrame，預設會以數字當欄名，除非手動設定 columns=...\n",
    "# cursor.description 是一個 tuple，裡面包含每個欄位的資訊，要的是欄位名稱也就是desc[0]\n",
    "print(cursor.description)"
   ]
  },
  {
   "cell_type": "code",
   "execution_count": 11,
   "id": "8963ffd7",
   "metadata": {},
   "outputs": [
    {
     "name": "stdout",
     "output_type": "stream",
     "text": [
      "    article_id  author_id  viewer_id   view_date\n",
      "0            1          3          5  2019-08-01\n",
      "1            1          3          6  2019-08-02\n",
      "2            2          7          7  2019-08-01\n",
      "3            2          7          6  2019-08-02\n",
      "4            4          7          1  2019-07-22\n",
      "5            3          4          4  2019-07-21\n",
      "6            3          4          4  2019-07-21\n",
      "7            1          3          5  2019-08-01\n",
      "8            1          3          6  2019-08-02\n",
      "9            2          7          7  2019-08-01\n",
      "10           2          7          6  2019-08-02\n",
      "11           4          7          1  2019-07-22\n",
      "12           3          4          4  2019-07-21\n",
      "13           3          4          4  2019-07-21\n",
      "14           1          3          5  2019-08-01\n",
      "15           1          3          6  2019-08-02\n",
      "16           2          7          7  2019-08-01\n",
      "17           2          7          6  2019-08-02\n",
      "18           4          7          1  2019-07-22\n",
      "19           3          4          4  2019-07-21\n",
      "20           3          4          4  2019-07-21\n",
      "21           1          3          5  2019-08-01\n",
      "22           1          3          6  2019-08-02\n",
      "23           2          7          7  2019-08-01\n",
      "24           2          7          6  2019-08-02\n",
      "25           4          7          1  2019-07-22\n",
      "26           3          4          4  2019-07-21\n",
      "27           3          4          4  2019-07-21\n",
      "28           1          3          5  2019-08-01\n",
      "29           1          3          6  2019-08-02\n",
      "30           2          7          7  2019-08-01\n",
      "31           2          7          6  2019-08-02\n",
      "32           4          7          1  2019-07-22\n",
      "33           3          4          4  2019-07-21\n",
      "34           3          4          4  2019-07-21\n",
      "35           1          3          5  2019-08-01\n",
      "36           1          3          6  2019-08-02\n",
      "37           2          7          7  2019-08-01\n",
      "38           2          7          6  2019-08-02\n",
      "39           4          7          1  2019-07-22\n",
      "40           3          4          4  2019-07-21\n",
      "41           3          4          4  2019-07-21\n"
     ]
    }
   ],
   "source": [
    "cursor.execute(\"SELECT * FROM Views\")\n",
    "rows = cursor.fetchall()\n",
    "columns = [desc[0] for desc in cursor.description]\n",
    "\n",
    "df = pd.DataFrame(rows, columns=columns)\n",
    "print(df)"
   ]
  },
  {
   "cell_type": "code",
   "execution_count": 12,
   "id": "dd2fdb03",
   "metadata": {},
   "outputs": [
    {
     "data": {
      "text/html": [
       "<div>\n",
       "<style scoped>\n",
       "    .dataframe tbody tr th:only-of-type {\n",
       "        vertical-align: middle;\n",
       "    }\n",
       "\n",
       "    .dataframe tbody tr th {\n",
       "        vertical-align: top;\n",
       "    }\n",
       "\n",
       "    .dataframe thead th {\n",
       "        text-align: right;\n",
       "    }\n",
       "</style>\n",
       "<table border=\"1\" class=\"dataframe\">\n",
       "  <thead>\n",
       "    <tr style=\"text-align: right;\">\n",
       "      <th></th>\n",
       "      <th>id</th>\n",
       "    </tr>\n",
       "  </thead>\n",
       "  <tbody>\n",
       "    <tr>\n",
       "      <th>5</th>\n",
       "      <td>4</td>\n",
       "    </tr>\n",
       "    <tr>\n",
       "      <th>2</th>\n",
       "      <td>7</td>\n",
       "    </tr>\n",
       "  </tbody>\n",
       "</table>\n",
       "</div>"
      ],
      "text/plain": [
       "   id\n",
       "5   4\n",
       "2   7"
      ]
     },
     "execution_count": 12,
     "metadata": {},
     "output_type": "execute_result"
    }
   ],
   "source": [
    "# 用python語法執行\n",
    "def article_views(views: pd.DataFrame) -> pd.DataFrame:\n",
    "    return(\n",
    "        views.loc[\n",
    "            (views[\"author_id\"]==views[\"viewer_id\"],[\"author_id\"])\n",
    "        ]\n",
    "        .rename(columns={\"author_id\":\"id\"})\n",
    "        .drop_duplicates()\n",
    "        .sort_values(['id'])\n",
    "    )\n",
    "\n",
    "article_views(df)"
   ]
  },
  {
   "cell_type": "code",
   "execution_count": 13,
   "id": "a5b2ec3b",
   "metadata": {},
   "outputs": [
    {
     "name": "stdout",
     "output_type": "stream",
     "text": [
      "   id\n",
      "0   4\n",
      "1   7\n"
     ]
    }
   ],
   "source": [
    "# 用Mysql語法執行\n",
    "sql_article_views=\"\"\"\n",
    "select distinct author_id as id \n",
    "from Views \n",
    "where author_id=viewer_id \n",
    "order by id;\n",
    "\"\"\"\n",
    "\n",
    "cursor.execute(sql_article_views)\n",
    "columns = [desc[0] for desc in cursor.description]\n",
    "dk = pd.DataFrame(cursor.fetchall(), columns=columns)\n",
    "print(dk)\n",
    "\n",
    "# 不能直接引用上面的df嗎?\n",
    "# 不行，在每次 cursor.execute(...) 之後，都要重新取出結果與欄位名稱，然後再建立 DataFrame\n",
    "# cursor.execute() 會覆蓋先前的查詢結果\n",
    "# cursor.fetchall() 只能抓最新的查詢資料\n",
    "# cursor.description 也是針對最新的 SQL 查詢\n"
   ]
  },
  {
   "cell_type": "code",
   "execution_count": 14,
   "id": "e4c26d49",
   "metadata": {},
   "outputs": [
    {
     "name": "stdout",
     "output_type": "stream",
     "text": [
      "    article_id  author_id  viewer_id   view_date\n",
      "0            1          3          5  2019-08-01\n",
      "1            1          3          6  2019-08-02\n",
      "2            2          7          7  2019-08-01\n",
      "3            2          7          6  2019-08-02\n",
      "4            4          7          1  2019-07-22\n",
      "5            3          4          4  2019-07-21\n",
      "6            3          4          4  2019-07-21\n",
      "7            1          3          5  2019-08-01\n",
      "8            1          3          6  2019-08-02\n",
      "9            2          7          7  2019-08-01\n",
      "10           2          7          6  2019-08-02\n",
      "11           4          7          1  2019-07-22\n",
      "12           3          4          4  2019-07-21\n",
      "13           3          4          4  2019-07-21\n",
      "14           1          3          5  2019-08-01\n",
      "15           1          3          6  2019-08-02\n",
      "16           2          7          7  2019-08-01\n",
      "17           2          7          6  2019-08-02\n",
      "18           4          7          1  2019-07-22\n",
      "19           3          4          4  2019-07-21\n",
      "20           3          4          4  2019-07-21\n",
      "21           1          3          5  2019-08-01\n",
      "22           1          3          6  2019-08-02\n",
      "23           2          7          7  2019-08-01\n",
      "24           2          7          6  2019-08-02\n",
      "25           4          7          1  2019-07-22\n",
      "26           3          4          4  2019-07-21\n",
      "27           3          4          4  2019-07-21\n",
      "28           1          3          5  2019-08-01\n",
      "29           1          3          6  2019-08-02\n",
      "30           2          7          7  2019-08-01\n",
      "31           2          7          6  2019-08-02\n",
      "32           4          7          1  2019-07-22\n",
      "33           3          4          4  2019-07-21\n",
      "34           3          4          4  2019-07-21\n",
      "35           1          3          5  2019-08-01\n",
      "36           1          3          6  2019-08-02\n",
      "37           2          7          7  2019-08-01\n",
      "38           2          7          6  2019-08-02\n",
      "39           4          7          1  2019-07-22\n",
      "40           3          4          4  2019-07-21\n",
      "41           3          4          4  2019-07-21\n"
     ]
    }
   ],
   "source": [
    "#但是可以寫一個通用函數：\n",
    "def fetch_to_df(cursor, sql):\n",
    "    cursor.execute(sql)\n",
    "    return pd.DataFrame(cursor.fetchall(), columns=[desc[0] for desc in cursor.description])\n",
    "\n",
    "df1 = fetch_to_df(cursor, \"SELECT * FROM Views\")\n",
    "df2 = fetch_to_df(cursor, \"\"\"\n",
    "    select distinct author_id as id \n",
    "    from Views \n",
    "    where author_id = viewer_id \n",
    "    order by id;\n",
    "\"\"\")\n",
    "\n",
    "print(df1)"
   ]
  },
  {
   "cell_type": "code",
   "execution_count": 15,
   "id": "939095fc",
   "metadata": {},
   "outputs": [
    {
     "name": "stdout",
     "output_type": "stream",
     "text": [
      "   id\n",
      "0   4\n",
      "1   7\n"
     ]
    }
   ],
   "source": [
    "print(df2)"
   ]
  },
  {
   "cell_type": "code",
   "execution_count": 16,
   "id": "d23f5458",
   "metadata": {},
   "outputs": [],
   "source": [
    "#將游標與連結關閉\n",
    "cursor.close()\n",
    "conn.close()"
   ]
  }
 ],
 "metadata": {
  "kernelspec": {
   "display_name": "Python 3",
   "language": "python",
   "name": "python3"
  },
  "language_info": {
   "codemirror_mode": {
    "name": "ipython",
    "version": 3
   },
   "file_extension": ".py",
   "mimetype": "text/x-python",
   "name": "python",
   "nbconvert_exporter": "python",
   "pygments_lexer": "ipython3",
   "version": "3.13.2"
  }
 },
 "nbformat": 4,
 "nbformat_minor": 5
}
