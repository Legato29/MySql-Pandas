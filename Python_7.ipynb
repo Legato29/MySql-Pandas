{
 "cells": [
  {
   "cell_type": "code",
   "execution_count": null,
   "id": "32b5004f",
   "metadata": {},
   "outputs": [],
   "source": [
    "# https://leetcode.cn/problems/product-sales-analysis-i/description/?envType=study-plan-v2&envId=sql-free-50\n",
    "# [left join時會以左表為主]獲取 Sales 表中所有 sale_id 對應的 product_name 以及該產品的所有 year 和 price"
   ]
  },
  {
   "cell_type": "code",
   "execution_count": 2,
   "id": "e6c4a2b3",
   "metadata": {},
   "outputs": [
    {
     "name": "stdout",
     "output_type": "stream",
     "text": [
      "Product 表：\n",
      "   product_id product_name\n",
      "0         100        Nokia\n",
      "1         200        Apple\n",
      "2         300      Samsung\n",
      "\n",
      "Sales 表：\n",
      "   sale_id  product_id  year  quantity  price\n",
      "0        1         100  2008        10   5000\n",
      "1        2         100  2009        12   5000\n",
      "2        7         200  2011        15   9000\n"
     ]
    }
   ],
   "source": [
    "import pandas as pd\n",
    "\n",
    "d1 = {\n",
    "    'product_id': [100, 200, 300],\n",
    "    'product_name': ['Nokia', 'Apple', 'Samsung'],\n",
    "}\n",
    "Product = pd.DataFrame(d1)\n",
    "\n",
    "d2 = {\n",
    "    'sale_id': [1, 2, 7],\n",
    "    'product_id': [100, 100, 200],\n",
    "    'year': [2008,2009,2011],\n",
    "    'quantity': [10, 12, 15],\n",
    "    'price': [5000,5000,9000]\n",
    "}\n",
    "Sales = pd.DataFrame(d2)\n",
    "\n",
    "# 將 sale_date 轉為 datetime 類型（可根據需求使用）\n",
    "#Sales['sale_date'] = pd.to_datetime(Sales['sale_date'])\n",
    "\n",
    "# 顯示兩張表的內容\n",
    "print(\"Product 表：\")\n",
    "print(Product)\n",
    "print(\"\\nSales 表：\")\n",
    "print(Sales)"
   ]
  },
  {
   "cell_type": "code",
   "execution_count": 3,
   "id": "e6e5bfb2",
   "metadata": {},
   "outputs": [
    {
     "data": {
      "text/html": [
       "<div>\n",
       "<style scoped>\n",
       "    .dataframe tbody tr th:only-of-type {\n",
       "        vertical-align: middle;\n",
       "    }\n",
       "\n",
       "    .dataframe tbody tr th {\n",
       "        vertical-align: top;\n",
       "    }\n",
       "\n",
       "    .dataframe thead th {\n",
       "        text-align: right;\n",
       "    }\n",
       "</style>\n",
       "<table border=\"1\" class=\"dataframe\">\n",
       "  <thead>\n",
       "    <tr style=\"text-align: right;\">\n",
       "      <th></th>\n",
       "      <th>product_name</th>\n",
       "      <th>year</th>\n",
       "      <th>price</th>\n",
       "    </tr>\n",
       "  </thead>\n",
       "  <tbody>\n",
       "    <tr>\n",
       "      <th>0</th>\n",
       "      <td>Nokia</td>\n",
       "      <td>2008</td>\n",
       "      <td>5000</td>\n",
       "    </tr>\n",
       "    <tr>\n",
       "      <th>1</th>\n",
       "      <td>Nokia</td>\n",
       "      <td>2009</td>\n",
       "      <td>5000</td>\n",
       "    </tr>\n",
       "    <tr>\n",
       "      <th>2</th>\n",
       "      <td>Apple</td>\n",
       "      <td>2011</td>\n",
       "      <td>9000</td>\n",
       "    </tr>\n",
       "  </tbody>\n",
       "</table>\n",
       "</div>"
      ],
      "text/plain": [
       "  product_name  year  price\n",
       "0        Nokia  2008   5000\n",
       "1        Nokia  2009   5000\n",
       "2        Apple  2011   9000"
      ]
     },
     "execution_count": 3,
     "metadata": {},
     "output_type": "execute_result"
    }
   ],
   "source": [
    "def sales_analysis(sales: pd.DataFrame, product: pd.DataFrame) -> pd.DataFrame:\n",
    "    df = pd.merge(sales,product,on = \"product_id\",how=\"left\")\n",
    "    \n",
    "    return df[[\"product_name\",\"year\",\"price\"]]\n",
    "\n",
    "sales_analysis(Sales, Product)"
   ]
  }
 ],
 "metadata": {
  "kernelspec": {
   "display_name": "Python 3",
   "language": "python",
   "name": "python3"
  },
  "language_info": {
   "codemirror_mode": {
    "name": "ipython",
    "version": 3
   },
   "file_extension": ".py",
   "mimetype": "text/x-python",
   "name": "python",
   "nbconvert_exporter": "python",
   "pygments_lexer": "ipython3",
   "version": "3.13.2"
  }
 },
 "nbformat": 4,
 "nbformat_minor": 5
}
