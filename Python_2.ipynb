{
 "cells": [
  {
   "cell_type": "code",
   "execution_count": 1,
   "id": "18ab1d7f",
   "metadata": {},
   "outputs": [
    {
     "name": "stdout",
     "output_type": "stream",
     "text": [
      "   id  name  referee_id\n",
      "0   1  Will         NaN\n",
      "1   2  Jane         NaN\n",
      "2   3  Alex         2.0\n",
      "3   4  Bill         NaN\n",
      "4   5  Zack         1.0\n",
      "5   6  Mark         2.0\n"
     ]
    }
   ],
   "source": [
    "# https://leetcode.cn/problems/find-customer-referee/\n",
    "# [空值與篩選資料] 尋找用戶推薦人：列出那些沒有被2號推薦的那些人\n",
    "\n",
    "import pandas as pd\n",
    "import numpy as np\n",
    "\n",
    "# 創建數據字典\n",
    "data = {\n",
    "    'id': [1, 2, 3, 4, 5, 6],\n",
    "    'name': ['Will', 'Jane', 'Alex', 'Bill', 'Zack', 'Mark'],\n",
    "    'referee_id': [np.nan, np.nan, 2, np.nan, 1, 2]\n",
    "}\n",
    "\n",
    "# 創建 DataFrame\n",
    "customer = pd.DataFrame(data)\n",
    "\n",
    "# 顯示 DataFrame\n",
    "print(customer)"
   ]
  },
  {
   "cell_type": "code",
   "execution_count": 2,
   "id": "1542054e",
   "metadata": {},
   "outputs": [
    {
     "name": "stdout",
     "output_type": "stream",
     "text": [
      "   name\n",
      "0  Will\n",
      "1  Jane\n",
      "3  Bill\n",
      "4  Zack\n"
     ]
    }
   ],
   "source": [
    "#法一：用.loc給定條件直接回傳，但這裡條件判定會有問題，因為針對Null值的布林判定皆為False\n",
    "def find_customer_referee1(customer: pd.DataFrame) -> pd.DataFrame:\n",
    "    return (\n",
    "        customer.loc[ customer['referee_id'] !=2 , ['name']]\n",
    "    )\n",
    "    \n",
    "print(find_customer_referee1(customer))\n",
    "#在 Python 和 pandas 中，NaN 與任何值（包括自身）的比較結果都是 False，這是由 IEEE 754 浮點數標準定義的\n",
    "#因此，customer['referee_id'] != 2 對 NaN 值的評估結果是 False，而不是預期的「未定義」或「忽略」\n",
    "\n",
    "#loc 的篩選邏輯：customer.loc[customer['referee_id'] != 2, ['id']] 會根據條件 customer['referee_id'] != 2 篩選行\n",
    "#對於 referee_id 為 NaN 的行，由於 NaN != 2 評為 False，這些行不會被納入結果中"
   ]
  },
  {
   "cell_type": "code",
   "execution_count": 3,
   "id": "a68d881b",
   "metadata": {},
   "outputs": [
    {
     "name": "stdout",
     "output_type": "stream",
     "text": [
      "   name\n",
      "0  Will\n",
      "1  Jane\n",
      "3  Bill\n",
      "4  Zack\n"
     ]
    }
   ],
   "source": [
    "#法二：用.loc給定條件直接回傳，使用.isnull()將null值篩出來\n",
    "def find_customer_referee2(customer: pd.DataFrame) -> pd.DataFrame:\n",
    "    return(\n",
    "        customer.loc[\n",
    "            (customer[\"referee_id\"]!=2) | (customer[\"referee_id\"].isnull()) , [\"name\"]\n",
    "        ]\n",
    "    )\n",
    "    #is not null = .notnull()\n",
    "    #is null = .isnull()\n",
    "    \n",
    "print(find_customer_referee2(customer))"
   ]
  },
  {
   "cell_type": "code",
   "execution_count": 4,
   "id": "d31cdc4e",
   "metadata": {},
   "outputs": [
    {
     "name": "stdout",
     "output_type": "stream",
     "text": [
      "   name\n",
      "0  Will\n",
      "1  Jane\n",
      "3  Bill\n",
      "4  Zack\n"
     ]
    }
   ],
   "source": [
    "#法三：透過dataframe的方式，將依據條件篩選過的資料指定給新的變數名，最後return時用兩個[]，指定輸出的columns\n",
    "def find_customer_referee3(customer: pd.DataFrame) -> pd.DataFrame:\n",
    "    \n",
    "    df = customer[ (customer[\"referee_id\"]!=2)  | ( customer[\"referee_id\"].isnull() ) ]\n",
    "    return df[[\"name\"]]\n",
    "\n",
    "\n",
    "print(find_customer_referee3(customer))"
   ]
  }
 ],
 "metadata": {
  "kernelspec": {
   "display_name": "Python 3",
   "language": "python",
   "name": "python3"
  },
  "language_info": {
   "codemirror_mode": {
    "name": "ipython",
    "version": 3
   },
   "file_extension": ".py",
   "mimetype": "text/x-python",
   "name": "python",
   "nbconvert_exporter": "python",
   "pygments_lexer": "ipython3",
   "version": "3.13.2"
  }
 },
 "nbformat": 4,
 "nbformat_minor": 5
}
