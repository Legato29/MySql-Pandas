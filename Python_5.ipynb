{
 "cells": [
  {
   "cell_type": "code",
   "execution_count": 1,
   "id": "30be876e",
   "metadata": {},
   "outputs": [],
   "source": [
    " # https://leetcode.cn/problems/invalid-tweets/?envType=study-plan-v2&envId=sql-free-50\n",
    " # [篩選資料by字串條件]\n",
    " # 找出超過15字元的tweet查詢所有無效推文的編號（ID）。當推文內容中的字符數嚴格大於 15 時，該推文是無效的"
   ]
  },
  {
   "cell_type": "code",
   "execution_count": 2,
   "id": "590c9667",
   "metadata": {},
   "outputs": [
    {
     "name": "stdout",
     "output_type": "stream",
     "text": [
      "   tweet_id                           content\n",
      "0         1                    Vote for Biden\n",
      "1         2  Let us make America great again!\n"
     ]
    }
   ],
   "source": [
    "import pandas as pd\n",
    "data = {\n",
    "    'tweet_id': [1, 2],\n",
    "    'content': ['Vote for Biden', 'Let us make America great again!']\n",
    "}\n",
    "\n",
    "tweets = pd.DataFrame(data)\n",
    "print(tweets)"
   ]
  },
  {
   "cell_type": "code",
   "execution_count": 3,
   "id": "22a373c2",
   "metadata": {},
   "outputs": [
    {
     "data": {
      "text/html": [
       "<div>\n",
       "<style scoped>\n",
       "    .dataframe tbody tr th:only-of-type {\n",
       "        vertical-align: middle;\n",
       "    }\n",
       "\n",
       "    .dataframe tbody tr th {\n",
       "        vertical-align: top;\n",
       "    }\n",
       "\n",
       "    .dataframe thead th {\n",
       "        text-align: right;\n",
       "    }\n",
       "</style>\n",
       "<table border=\"1\" class=\"dataframe\">\n",
       "  <thead>\n",
       "    <tr style=\"text-align: right;\">\n",
       "      <th></th>\n",
       "      <th>tweet_id</th>\n",
       "    </tr>\n",
       "  </thead>\n",
       "  <tbody>\n",
       "    <tr>\n",
       "      <th>1</th>\n",
       "      <td>2</td>\n",
       "    </tr>\n",
       "  </tbody>\n",
       "</table>\n",
       "</div>"
      ],
      "text/plain": [
       "   tweet_id\n",
       "1         2"
      ]
     },
     "execution_count": 3,
     "metadata": {},
     "output_type": "execute_result"
    }
   ],
   "source": [
    "#法一：\n",
    "def invalid_tweets1(tweets: pd.DataFrame) -> pd.DataFrame:\n",
    "    return(\n",
    "        tweets.loc[\n",
    "            tweets[\"content\"].str.len()>15 , [\"tweet_id\"]\n",
    "        ]\n",
    "    )\n",
    "\n",
    "invalid_tweets1(tweets)"
   ]
  },
  {
   "cell_type": "code",
   "execution_count": 4,
   "id": "6200605c",
   "metadata": {},
   "outputs": [
    {
     "data": {
      "text/html": [
       "<div>\n",
       "<style scoped>\n",
       "    .dataframe tbody tr th:only-of-type {\n",
       "        vertical-align: middle;\n",
       "    }\n",
       "\n",
       "    .dataframe tbody tr th {\n",
       "        vertical-align: top;\n",
       "    }\n",
       "\n",
       "    .dataframe thead th {\n",
       "        text-align: right;\n",
       "    }\n",
       "</style>\n",
       "<table border=\"1\" class=\"dataframe\">\n",
       "  <thead>\n",
       "    <tr style=\"text-align: right;\">\n",
       "      <th></th>\n",
       "      <th>tweet_id</th>\n",
       "    </tr>\n",
       "  </thead>\n",
       "  <tbody>\n",
       "    <tr>\n",
       "      <th>1</th>\n",
       "      <td>2</td>\n",
       "    </tr>\n",
       "  </tbody>\n",
       "</table>\n",
       "</div>"
      ],
      "text/plain": [
       "   tweet_id\n",
       "1         2"
      ]
     },
     "execution_count": 4,
     "metadata": {},
     "output_type": "execute_result"
    }
   ],
   "source": [
    "#法二：\n",
    "def invalid_tweets2(tweets: pd.DataFrame) -> pd.DataFrame:\n",
    "    df = tweets[tweets[\"content\"].str.len()>15]\n",
    "    \n",
    "    return df[[\"tweet_id\"]]\n",
    "\n",
    "invalid_tweets2(tweets)"
   ]
  }
 ],
 "metadata": {
  "kernelspec": {
   "display_name": "Python 3",
   "language": "python",
   "name": "python3"
  },
  "language_info": {
   "codemirror_mode": {
    "name": "ipython",
    "version": 3
   },
   "file_extension": ".py",
   "mimetype": "text/x-python",
   "name": "python",
   "nbconvert_exporter": "python",
   "pygments_lexer": "ipython3",
   "version": "3.13.2"
  }
 },
 "nbformat": 4,
 "nbformat_minor": 5
}
