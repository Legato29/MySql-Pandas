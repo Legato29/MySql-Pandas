{
 "cells": [
  {
   "cell_type": "code",
   "execution_count": 1,
   "id": "a71f14d8",
   "metadata": {},
   "outputs": [],
   "source": [
    "# https://leetcode.cn/problems/big-countries/description/\n",
    "#[篩選資料，並輸出指定columns]\n",
    "#找出大國的國家名稱、人口、面積     大國定義：面積至少300萬平方公里 或 人口至少2500萬"
   ]
  },
  {
   "cell_type": "code",
   "execution_count": 2,
   "id": "0542609c",
   "metadata": {},
   "outputs": [
    {
     "name": "stdout",
     "output_type": "stream",
     "text": [
      "          name continent     area  population             gdp\n",
      "0  Afghanistan      Asia   652230    25500100   2034300000000\n",
      "1      Albania    Europe    28748     2831741   1296000000000\n",
      "2      Algeria    Africa  2381741    37100000   1886810000000\n",
      "3      Andorra    Europe      468       78115    371200000000\n",
      "4       Angola    Africa  1246700    20609294  10099000000000\n"
     ]
    }
   ],
   "source": [
    "import pandas as pd\n",
    "\n",
    "# 創建數據字典\n",
    "data = {\n",
    "    'name': ['Afghanistan', 'Albania', 'Algeria', 'Andorra', 'Angola'],\n",
    "    'continent': ['Asia', 'Europe', 'Africa', 'Europe', 'Africa'],\n",
    "    'area': [652230, 28748, 2381741, 468, 1246700],\n",
    "    'population': [25500100, 2831741, 37100000, 78115, 20609294],\n",
    "    'gdp': [2034300000000, 1296000000000, 1886810000000, 371200000000, 10099000000000]\n",
    "}\n",
    "\n",
    "world = pd.DataFrame(data)\n",
    "print(world)"
   ]
  },
  {
   "cell_type": "code",
   "execution_count": 3,
   "id": "11b16e42",
   "metadata": {},
   "outputs": [
    {
     "data": {
      "text/html": [
       "<div>\n",
       "<style scoped>\n",
       "    .dataframe tbody tr th:only-of-type {\n",
       "        vertical-align: middle;\n",
       "    }\n",
       "\n",
       "    .dataframe tbody tr th {\n",
       "        vertical-align: top;\n",
       "    }\n",
       "\n",
       "    .dataframe thead th {\n",
       "        text-align: right;\n",
       "    }\n",
       "</style>\n",
       "<table border=\"1\" class=\"dataframe\">\n",
       "  <thead>\n",
       "    <tr style=\"text-align: right;\">\n",
       "      <th></th>\n",
       "      <th>name</th>\n",
       "      <th>population</th>\n",
       "      <th>area</th>\n",
       "    </tr>\n",
       "  </thead>\n",
       "  <tbody>\n",
       "    <tr>\n",
       "      <th>0</th>\n",
       "      <td>Afghanistan</td>\n",
       "      <td>25500100</td>\n",
       "      <td>652230</td>\n",
       "    </tr>\n",
       "    <tr>\n",
       "      <th>2</th>\n",
       "      <td>Algeria</td>\n",
       "      <td>37100000</td>\n",
       "      <td>2381741</td>\n",
       "    </tr>\n",
       "  </tbody>\n",
       "</table>\n",
       "</div>"
      ],
      "text/plain": [
       "          name  population     area\n",
       "0  Afghanistan    25500100   652230\n",
       "2      Algeria    37100000  2381741"
      ]
     },
     "execution_count": 3,
     "metadata": {},
     "output_type": "execute_result"
    }
   ],
   "source": [
    "#法一：用.loc\n",
    "def big_countries1(world: pd.DataFrame) -> pd.DataFrame:\n",
    "    return(\n",
    "        world.loc[\n",
    "            (world[\"area\"]>=3000000) | (world[\"population\"]>=25000000) ,[\"name\",\"population\",\"area\"]\n",
    "        ]\n",
    "    )\n",
    "    \n",
    "big_countries1(world)"
   ]
  },
  {
   "cell_type": "code",
   "execution_count": null,
   "id": "6ad0a907",
   "metadata": {},
   "outputs": [
    {
     "data": {
      "text/html": [
       "<div>\n",
       "<style scoped>\n",
       "    .dataframe tbody tr th:only-of-type {\n",
       "        vertical-align: middle;\n",
       "    }\n",
       "\n",
       "    .dataframe tbody tr th {\n",
       "        vertical-align: top;\n",
       "    }\n",
       "\n",
       "    .dataframe thead th {\n",
       "        text-align: right;\n",
       "    }\n",
       "</style>\n",
       "<table border=\"1\" class=\"dataframe\">\n",
       "  <thead>\n",
       "    <tr style=\"text-align: right;\">\n",
       "      <th></th>\n",
       "      <th>name</th>\n",
       "      <th>population</th>\n",
       "      <th>area</th>\n",
       "    </tr>\n",
       "  </thead>\n",
       "  <tbody>\n",
       "    <tr>\n",
       "      <th>0</th>\n",
       "      <td>Afghanistan</td>\n",
       "      <td>25500100</td>\n",
       "      <td>652230</td>\n",
       "    </tr>\n",
       "    <tr>\n",
       "      <th>2</th>\n",
       "      <td>Algeria</td>\n",
       "      <td>37100000</td>\n",
       "      <td>2381741</td>\n",
       "    </tr>\n",
       "  </tbody>\n",
       "</table>\n",
       "</div>"
      ],
      "text/plain": [
       "          name  population     area\n",
       "0  Afghanistan    25500100   652230\n",
       "2      Algeria    37100000  2381741"
      ]
     },
     "execution_count": 4,
     "metadata": {},
     "output_type": "execute_result"
    }
   ],
   "source": [
    "#法二：用dataframe給定條件後，於return時挑選要輸出的columns\n",
    "def big_countries2(world: pd.DataFrame) -> pd.DataFrame:\n",
    "    df = world[ (world[\"area\"]>=3000000) | (world[\"population\"]>=25000000) ]\n",
    "    \n",
    "    return df[[\"name\",\"population\",\"area\"]] #DataFrame type\n",
    "\n",
    "big_countries2(world)"
   ]
  }
 ],
 "metadata": {
  "kernelspec": {
   "display_name": "Python 3",
   "language": "python",
   "name": "python3"
  },
  "language_info": {
   "codemirror_mode": {
    "name": "ipython",
    "version": 3
   },
   "file_extension": ".py",
   "mimetype": "text/x-python",
   "name": "python",
   "nbconvert_exporter": "python",
   "pygments_lexer": "ipython3",
   "version": "3.13.2"
  }
 },
 "nbformat": 4,
 "nbformat_minor": 5
}
