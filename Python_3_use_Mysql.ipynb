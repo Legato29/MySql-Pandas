{
 "cells": [
  {
   "cell_type": "code",
   "execution_count": null,
   "id": "ecd4b7ba",
   "metadata": {},
   "outputs": [
    {
     "name": "stdout",
     "output_type": "stream",
     "text": [
      "Successfully connected!\n"
     ]
    }
   ],
   "source": [
    "import pandas as pd\n",
    "import pymysql #pymysql 模組，是用來操作 MySQL 資料庫的套件\n",
    "\n",
    "# 設定資料庫連線資訊\n",
    "host = 'localhost'  # 資料庫主機地址\n",
    "# 如果是遠端主機，請使用遠端主機的 IP 地址或域名\n",
    "# 如果是本機，則可以使用 'localhost' 或 '127.0.0.1'\n",
    "\n",
    "port = 3306     # MySQL 預設的連接埠號是 3306\n",
    "user = 'root'   #使用者名稱，例如 'root'（管理者帳號）\n",
    "\n",
    "passwd = 'password'   # 資料庫密碼，請根據實際情況修改\n",
    "db = 'testdb'           # 資料庫名稱，請根據實際情況修改\n",
    "charset = 'utf8mb4'     # 字符集，通常使用 'utf8mb4' 以支援完整 Unicode（包括 emoji）\n",
    "\n",
    "# 建立連線\n",
    "conn = pymysql.connect(host=host, port=port, user=user, passwd=passwd, db=db, charset=charset)\n",
    "#使用 pymysql.connect(...) 來建立一個資料庫連線物件 conn\n",
    "#此連線物件可用於：建立 cursor 游標查詢、執行 SQL 指令（查詢、更新、插入等）、提交或回滾交易（commit() / rollback()）\n",
    "\n",
    "print('Successfully connected!')"
   ]
  },
  {
   "cell_type": "code",
   "execution_count": 2,
   "id": "9274e12d",
   "metadata": {},
   "outputs": [
    {
     "name": "stderr",
     "output_type": "stream",
     "text": [
      "C:\\Users\\Legato\\AppData\\Local\\Temp\\ipykernel_40760\\3350631688.py:1: UserWarning: pandas only supports SQLAlchemy connectable (engine/connection) or database string URI or sqlite3 DBAPI2 connection. Other DBAPI2 objects are not tested. Please consider using SQLAlchemy.\n",
      "  df = pd.read_sql(\n"
     ]
    },
    {
     "data": {
      "text/html": [
       "<div>\n",
       "<style scoped>\n",
       "    .dataframe tbody tr th:only-of-type {\n",
       "        vertical-align: middle;\n",
       "    }\n",
       "\n",
       "    .dataframe tbody tr th {\n",
       "        vertical-align: top;\n",
       "    }\n",
       "\n",
       "    .dataframe thead th {\n",
       "        text-align: right;\n",
       "    }\n",
       "</style>\n",
       "<table border=\"1\" class=\"dataframe\">\n",
       "  <thead>\n",
       "    <tr style=\"text-align: right;\">\n",
       "      <th></th>\n",
       "      <th>name</th>\n",
       "      <th>continent</th>\n",
       "      <th>area</th>\n",
       "      <th>population</th>\n",
       "      <th>gdp</th>\n",
       "    </tr>\n",
       "  </thead>\n",
       "  <tbody>\n",
       "    <tr>\n",
       "      <th>0</th>\n",
       "      <td>Afghanistan</td>\n",
       "      <td>Asia</td>\n",
       "      <td>652230</td>\n",
       "      <td>25500100</td>\n",
       "      <td>2034300000000</td>\n",
       "    </tr>\n",
       "    <tr>\n",
       "      <th>1</th>\n",
       "      <td>Albania</td>\n",
       "      <td>Europe</td>\n",
       "      <td>28748</td>\n",
       "      <td>2831741</td>\n",
       "      <td>1296000000000</td>\n",
       "    </tr>\n",
       "    <tr>\n",
       "      <th>2</th>\n",
       "      <td>Algeria</td>\n",
       "      <td>Africa</td>\n",
       "      <td>2381741</td>\n",
       "      <td>37100000</td>\n",
       "      <td>1886810000000</td>\n",
       "    </tr>\n",
       "    <tr>\n",
       "      <th>3</th>\n",
       "      <td>Andorra</td>\n",
       "      <td>Europe</td>\n",
       "      <td>468</td>\n",
       "      <td>78115</td>\n",
       "      <td>371200000000</td>\n",
       "    </tr>\n",
       "    <tr>\n",
       "      <th>4</th>\n",
       "      <td>Angola</td>\n",
       "      <td>Africa</td>\n",
       "      <td>1246700</td>\n",
       "      <td>20609294</td>\n",
       "      <td>10099000000000</td>\n",
       "    </tr>\n",
       "  </tbody>\n",
       "</table>\n",
       "</div>"
      ],
      "text/plain": [
       "          name continent     area  population             gdp\n",
       "0  Afghanistan      Asia   652230    25500100   2034300000000\n",
       "1      Albania    Europe    28748     2831741   1296000000000\n",
       "2      Algeria    Africa  2381741    37100000   1886810000000\n",
       "3      Andorra    Europe      468       78115    371200000000\n",
       "4       Angola    Africa  1246700    20609294  10099000000000"
      ]
     },
     "execution_count": 2,
     "metadata": {},
     "output_type": "execute_result"
    }
   ],
   "source": [
    "df = pd.read_sql(\n",
    "    \"select * from world\",\n",
    "    conn,\n",
    ")\n",
    "\n",
    "df"
   ]
  },
  {
   "cell_type": "code",
   "execution_count": 3,
   "id": "2978afe5",
   "metadata": {},
   "outputs": [
    {
     "data": {
      "text/html": [
       "<div>\n",
       "<style scoped>\n",
       "    .dataframe tbody tr th:only-of-type {\n",
       "        vertical-align: middle;\n",
       "    }\n",
       "\n",
       "    .dataframe tbody tr th {\n",
       "        vertical-align: top;\n",
       "    }\n",
       "\n",
       "    .dataframe thead th {\n",
       "        text-align: right;\n",
       "    }\n",
       "</style>\n",
       "<table border=\"1\" class=\"dataframe\">\n",
       "  <thead>\n",
       "    <tr style=\"text-align: right;\">\n",
       "      <th></th>\n",
       "      <th>name</th>\n",
       "      <th>population</th>\n",
       "      <th>area</th>\n",
       "    </tr>\n",
       "  </thead>\n",
       "  <tbody>\n",
       "    <tr>\n",
       "      <th>0</th>\n",
       "      <td>Afghanistan</td>\n",
       "      <td>25500100</td>\n",
       "      <td>652230</td>\n",
       "    </tr>\n",
       "    <tr>\n",
       "      <th>2</th>\n",
       "      <td>Algeria</td>\n",
       "      <td>37100000</td>\n",
       "      <td>2381741</td>\n",
       "    </tr>\n",
       "  </tbody>\n",
       "</table>\n",
       "</div>"
      ],
      "text/plain": [
       "          name  population     area\n",
       "0  Afghanistan    25500100   652230\n",
       "2      Algeria    37100000  2381741"
      ]
     },
     "execution_count": 3,
     "metadata": {},
     "output_type": "execute_result"
    }
   ],
   "source": [
    "def big_countries1(world: pd.DataFrame) -> pd.DataFrame:\n",
    "    return(\n",
    "        world.loc[\n",
    "            (world[\"area\"]>=3000000) | (world[\"population\"]>=25000000) ,[\"name\",\"population\",\"area\"]\n",
    "        ]\n",
    "    )\n",
    "    \n",
    "big_countries1(df)"
   ]
  }
 ],
 "metadata": {
  "kernelspec": {
   "display_name": "Python 3",
   "language": "python",
   "name": "python3"
  },
  "language_info": {
   "codemirror_mode": {
    "name": "ipython",
    "version": 3
   },
   "file_extension": ".py",
   "mimetype": "text/x-python",
   "name": "python",
   "nbconvert_exporter": "python",
   "pygments_lexer": "ipython3",
   "version": "3.13.2"
  }
 },
 "nbformat": 4,
 "nbformat_minor": 5
}
